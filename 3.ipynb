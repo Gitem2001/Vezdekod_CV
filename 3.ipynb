{
  "nbformat": 4,
  "nbformat_minor": 0,
  "metadata": {
    "colab": {
      "name": "3.ipynb",
      "provenance": []
    },
    "kernelspec": {
      "name": "python3",
      "display_name": "Python 3"
    },
    "language_info": {
      "name": "python"
    }
  },
  "cells": [
    {
      "cell_type": "markdown",
      "source": [
        "# Task №3 - 30 баллов"
      ],
      "metadata": {
        "id": "IZqRELmODnsr"
      }
    },
    {
      "cell_type": "code",
      "source": [
        "def calc_metric(image, x, y, w, h):\n",
        "  colors = dict()\n",
        "  for i in range(x+w):\n",
        "    for j in range(y+h):\n",
        "      colors[str(image[i][j])] = 1\n",
        "  for i in range(x+w):\n",
        "    for j in range(y+h):\n",
        "      colors[str(image[i][j])] += 1\n",
        "  ssd = sorted(colors, key=colors.__getitem__)\n",
        "  print(colors)\n",
        "  return ssd[-1]"
      ],
      "metadata": {
        "id": "TP3p6JQR-qku"
      },
      "execution_count": null,
      "outputs": []
    }
  ]
}