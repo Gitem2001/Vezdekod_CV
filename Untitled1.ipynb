{
  "nbformat": 4,
  "nbformat_minor": 0,
  "metadata": {
    "colab": {
      "name": "Untitled1.ipynb",
      "provenance": []
    },
    "kernelspec": {
      "name": "python3",
      "display_name": "Python 3"
    },
    "language_info": {
      "name": "python"
    }
  },
  "cells": [
    {
      "cell_type": "code",
      "source": [
        "pip install cv2"
      ],
      "metadata": {
        "colab": {
          "base_uri": "https://localhost:8080/"
        },
        "id": "eOM_OvdKk37K",
        "outputId": "b3387dda-8795-4474-d891-7d92a1ecbd89"
      },
      "execution_count": 2,
      "outputs": [
        {
          "output_type": "stream",
          "name": "stdout",
          "text": [
            "Looking in indexes: https://pypi.org/simple, https://us-python.pkg.dev/colab-wheels/public/simple/\n",
            "\u001b[31mERROR: Could not find a version that satisfies the requirement cv2 (from versions: none)\u001b[0m\n",
            "\u001b[31mERROR: No matching distribution found for cv2\u001b[0m\n"
          ]
        }
      ]
    },
    {
      "cell_type": "code",
      "execution_count": 8,
      "metadata": {
        "id": "NvY-2Pfjck0c"
      },
      "outputs": [],
      "source": [
        "import pandas as pd\n",
        "import numpy as np\n",
        "import cv2\n",
        "#img = cv2.imread('/content/example.jpg',cv2.IMREAD_GRAYSCALE)"
      ]
    },
    {
      "cell_type": "code",
      "source": [
        "def merge_channels(input_dir, output_dir):\n",
        "  df = pd.read_csv(f'{input_dir}/description.csv') # считываем метадату\n",
        "  f = open(f'{input_dir}/image_counter.txt', 'r')\n",
        "\n",
        "  n = f.read()\n",
        "  f.close()\n",
        "\n",
        "  for i in range(1,n+1):          \n",
        "    df_buf = df[df['full_image_index']==i]            #выделяем дату для изображения\n",
        "\n",
        "    image_b   = cv2.imread(f'{input_dir}/data/{df_buf.loc[0,\"image_path\"]}')  # считываем изображения\n",
        "    image_g   = cv2.imread(f'{input_dir}/data/{df_buf.loc[1,\"image_path\"]}')\n",
        "    image_r   = cv2.imread(f'{input_dir}/data/{df_buf.loc[2,\"image_path\"]}')\n",
        "\n",
        "    image_out = image_b\n",
        "    for i in len(image_out):          #обьединяем cv2.merge не работает\n",
        "      image_out[i][1] = image_g[i][1] \n",
        "      image_out[i][2] = image_r[i][2]\n",
        "    \n",
        "    cv2.imwrite(f'{output_dir}/{i}_image.jpg',image_out)   # записываем"
      ],
      "metadata": {
        "id": "3eRrG4UVl8wV"
      },
      "execution_count": 22,
      "outputs": []
    },
    {
      "cell_type": "code",
      "source": [
        "df = pd.read_csv('/content/drive/MyDrive/python_split_image_by_ch/description.csv')\n",
        "f = open('/content/drive/MyDrive/python_split_image_by_ch/image_counter.txt', 'r')\n",
        "\n",
        "n = f.read()\n",
        "f.close()\n",
        "\n",
        "i=1\n",
        "df_buf = df[df['full_image_index']==i]\n",
        "\n",
        "image_b   = cv2.imread(f'/content/drive/MyDrive/python_split_image_by_ch/data/{df_buf.loc[0,\"image_path\"]}')\n",
        "image_g   = cv2.imread(f'/content/drive/MyDrive/python_split_image_by_ch/data/{df_buf.loc[1,\"image_path\"]}')\n",
        "image_r   = cv2.imread(f'/content/drive/MyDrive/python_split_image_by_ch/data/{df_buf.loc[2,\"image_path\"]}')\n",
        "image_out = image_b\n",
        "for i in range(len(image_out)):\n",
        "  for j in range(len(image_out[i])):\n",
        "    image_out[i][j][1] = image_g[i][j][1]\n",
        "    image_out[i][j][2] = image_r[i][j][2]\n",
        "cv2.imwrite('image1.jpg',image_out)"
      ],
      "metadata": {
        "colab": {
          "base_uri": "https://localhost:8080/"
        },
        "id": "wIpH_pXdl-oy",
        "outputId": "d0da1fa1-06ad-400e-c34b-21ef143a6203"
      },
      "execution_count": 51,
      "outputs": [
        {
          "output_type": "execute_result",
          "data": {
            "text/plain": [
              "True"
            ]
          },
          "metadata": {},
          "execution_count": 51
        }
      ]
    }
  ]
}