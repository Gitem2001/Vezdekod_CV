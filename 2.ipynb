{
  "nbformat": 4,
  "nbformat_minor": 0,
  "metadata": {
    "colab": {
      "name": "Untitled3.ipynb",
      "provenance": [],
      "collapsed_sections": []
    },
    "kernelspec": {
      "name": "python3",
      "display_name": "Python 3"
    },
    "language_info": {
      "name": "python"
    }
  },
  "cells": [
    {
      "cell_type": "markdown",
      "source": [
        "# Task №2 - 20 баллов"
      ],
      "metadata": {
        "id": "DEI2gbjcDjR_"
      }
    },
    {
      "cell_type": "code",
      "source": [
        "from os import listdir\n",
        "from os.path import isfile, join\n",
        "\n",
        "def find_car(input_dir, output_cars =\"output.csv\"):\n",
        "  df = pd.DataFrame(columns=['name_file','flag_car'])\n",
        "  model = torch.hub.load('ultralytics/yolov5', 'yolov5s')\n",
        "\n",
        "  only_files = [f for f in listdir(input_dir) if isfile(join(input_dir, f))]\n",
        "  df = pd.DataFrame(columns=['name_file','flag_car'])\n",
        "\n",
        "  for i in only_files:\n",
        "    detected = model(f'{input_dir}/{i}').pandas().xyxy[0]['name'].values\n",
        "    flag =('bus' in detected) or ('car' in detected) or ('truck' in detected)\n",
        "    row = {'name_file': i,'flag_car': flag}\n",
        "    df = df.append(row,ignore_index=True)\n",
        "  df.to_csv(output_cars)"
      ],
      "metadata": {
        "id": "KHTKxYu48Kq4"
      },
      "execution_count": null,
      "outputs": []
    }
  ]
}