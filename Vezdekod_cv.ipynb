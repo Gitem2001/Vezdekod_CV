{
  "nbformat": 4,
  "nbformat_minor": 0,
  "metadata": {
    "colab": {
      "name": "Vezdekod_cv.ipynb",
      "provenance": [],
      "collapsed_sections": [
        "DEI2gbjcDjR_"
      ]
    },
    "kernelspec": {
      "name": "python3",
      "display_name": "Python 3"
    },
    "language_info": {
      "name": "python"
    }
  },
  "cells": [
    {
      "cell_type": "markdown",
      "source": [
        "# Импорты"
      ],
      "metadata": {
        "id": "zJ6uaxRMjHx-"
      }
    },
    {
      "cell_type": "code",
      "source": [
        "import pandas as pd\n",
        "import numpy as np\n",
        "import cv2\n",
        "from os import listdir\n",
        "from os.path import isfile, join\n",
        "import torch\n",
        "from sklearn.cluster import KMeans\n",
        "from collections import Counter"
      ],
      "metadata": {
        "id": "1GcEI663jGpE"
      },
      "execution_count": 48,
      "outputs": []
    },
    {
      "cell_type": "markdown",
      "source": [
        "# Task #1 - 10 баллов"
      ],
      "metadata": {
        "id": "Sh7qOvLvDeoD"
      }
    },
    {
      "cell_type": "code",
      "source": [
        "pip install cv2"
      ],
      "metadata": {
        "colab": {
          "base_uri": "https://localhost:8080/"
        },
        "id": "eOM_OvdKk37K",
        "outputId": "fab640e3-19b3-468e-ef46-bcf30a8b0d75"
      },
      "execution_count": 1,
      "outputs": [
        {
          "output_type": "stream",
          "name": "stdout",
          "text": [
            "Looking in indexes: https://pypi.org/simple, https://us-python.pkg.dev/colab-wheels/public/simple/\n",
            "\u001b[31mERROR: Could not find a version that satisfies the requirement cv2 (from versions: none)\u001b[0m\n",
            "\u001b[31mERROR: No matching distribution found for cv2\u001b[0m\n"
          ]
        }
      ]
    },
    {
      "cell_type": "code",
      "source": [
        "from google.colab import drive\n",
        "drive.mount('/content/drive')"
      ],
      "metadata": {
        "colab": {
          "base_uri": "https://localhost:8080/"
        },
        "id": "6VuxqXQs0svo",
        "outputId": "effa8ace-b16e-4f8f-ce05-a29f37847c3d"
      },
      "execution_count": 2,
      "outputs": [
        {
          "output_type": "stream",
          "name": "stdout",
          "text": [
            "Mounted at /content/drive\n"
          ]
        }
      ]
    },
    {
      "cell_type": "code",
      "source": [
        "def merge_channels(input_dir, output_dir):\n",
        "  df = pd.read_csv(f'{input_dir}/description.csv') # считываем метадату\n",
        "  f = open(f'{input_dir}/image_counter.txt', 'r')\n",
        "\n",
        "  n = int(f.read())\n",
        "  f.close()\n",
        "\n",
        "  for i in range(1,n+1):          \n",
        "    names = df[df['full_image_index']==i]['image_path'].values          #выделяем дату для изображения\n",
        "    image_b   = cv2.imread(f'{input_dir}/data/{names[0]}')  # считываем изображения\n",
        "    image_g   = cv2.imread(f'{input_dir}/data/{names[1]}')\n",
        "    image_r   = cv2.imread(f'{input_dir}/data/{names[2]}')\n",
        "\n",
        "    image_out = image_b\n",
        "    for о in range(len(image_out)):       # соединяем (cv2.merge не работал)\n",
        "      for j in range(len(image_out[о])):\n",
        "        image_out[о][j][1] = image_g[о][j][1]\n",
        "        image_out[о][j][2] = image_r[о][j][2]\n",
        "    cv2.imwrite(f'{output_dir}/{i}_image.jpg',image_out)   # записываем"
      ],
      "metadata": {
        "id": "3eRrG4UVl8wV"
      },
      "execution_count": 4,
      "outputs": []
    },
    {
      "cell_type": "code",
      "source": [
        "merge_channels('/content/drive/MyDrive/python_split_image_by_ch','/content/drive/MyDrive/output_cv_1')"
      ],
      "metadata": {
        "id": "cKlSWURA0bv_"
      },
      "execution_count": 5,
      "outputs": []
    },
    {
      "cell_type": "markdown",
      "source": [
        "# Task №2 - 20 баллов"
      ],
      "metadata": {
        "id": "DEI2gbjcDjR_"
      }
    },
    {
      "cell_type": "code",
      "source": [
        "def find_car(input_dir, output_cars =\"output.csv\"):\n",
        "  df = pd.DataFrame(columns=['name_file','flag_car'])\n",
        "  model = torch.hub.load('ultralytics/yolov5', 'yolov5s')\n",
        "  only_files = [f for f in listdir(input_dir) if isfile(join(input_dir, f))]\n",
        "  df = pd.DataFrame(columns=['name_file','flag_car'])\n",
        "\n",
        "  for i in only_files:\n",
        "    detected = model(f'{input_dir}/{i}').pandas().xyxy[0]['name'].values\n",
        "    flag =('bus' in detected) or ('car' in detected) or ('truck' in detected)\n",
        "    row = {'name_file': i,'flag_car': flag}\n",
        "    df = df.append(row,ignore_index=True)\n",
        "  df.to_csv(output_cars)\n",
        "  "
      ],
      "metadata": {
        "id": "KHTKxYu48Kq4"
      },
      "execution_count": 43,
      "outputs": []
    },
    {
      "cell_type": "code",
      "source": [
        "find_car('/content/drive/MyDrive/output_cv_1')"
      ],
      "metadata": {
        "colab": {
          "base_uri": "https://localhost:8080/"
        },
        "id": "oOojzlgL_ySO",
        "outputId": "83a905e0-24a4-4bda-cc1b-34ba65f342f6"
      },
      "execution_count": 44,
      "outputs": [
        {
          "output_type": "stream",
          "name": "stderr",
          "text": [
            "Using cache found in /root/.cache/torch/hub/ultralytics_yolov5_master\n",
            "\u001b[31m\u001b[1mrequirements:\u001b[0m PyYAML>=5.3.1 not found and is required by YOLOv5, attempting auto-update...\n",
            "Looking in indexes: https://pypi.org/simple, https://us-python.pkg.dev/colab-wheels/public/simple/\n",
            "Requirement already satisfied: PyYAML>=5.3.1 in /usr/local/lib/python3.7/dist-packages (6.0)\n",
            "\n",
            "\u001b[31m\u001b[1mrequirements:\u001b[0m 1 package updated per /root/.cache/torch/hub/ultralytics_yolov5_master/requirements.txt\n",
            "\u001b[31m\u001b[1mrequirements:\u001b[0m ⚠️ \u001b[1mRestart runtime or rerun command for updates to take effect\u001b[0m\n",
            "\n",
            "YOLOv5 🚀 2022-6-18 Python-3.7.13 torch-1.11.0+cu113 CPU\n",
            "\n",
            "Fusing layers... \n",
            "YOLOv5s summary: 213 layers, 7225885 parameters, 0 gradients\n",
            "Adding AutoShape... \n"
          ]
        }
      ]
    },
    {
      "cell_type": "code",
      "source": [
        "df_flag = pd.read_csv('/content/drive/MyDrive/python_split_image_by_ch/val.csv')\n",
        "df_predict = pd.read_csv('/content/output.csv')\n",
        "df_flag.columns = ['name_file','flag_car']"
      ],
      "metadata": {
        "id": "H-vtxtjcjtKh"
      },
      "execution_count": 45,
      "outputs": []
    },
    {
      "cell_type": "code",
      "source": [
        "cnt = 0\n",
        "for i in range(df_flag.shape[0]):\n",
        "  if df_flag.iloc[i]['flag_car'] == df_predict.iloc[i]['flag_car']:\n",
        "    cnt +=1\n",
        "print(cnt,' image equal of', df_flag.shape[0])"
      ],
      "metadata": {
        "colab": {
          "base_uri": "https://localhost:8080/"
        },
        "id": "QFVV9UkokSTt",
        "outputId": "3b18d8bd-38f5-4af7-f383-033a30fff4cc"
      },
      "execution_count": 46,
      "outputs": [
        {
          "output_type": "stream",
          "name": "stdout",
          "text": [
            "53  image equal of 99\n"
          ]
        }
      ]
    },
    {
      "cell_type": "markdown",
      "source": [
        "# Task №3 - 30 баллов"
      ],
      "metadata": {
        "id": "IZqRELmODnsr"
      }
    },
    {
      "cell_type": "code",
      "source": [
        "pip install sklearn"
      ],
      "metadata": {
        "colab": {
          "base_uri": "https://localhost:8080/"
        },
        "id": "ft4Y11ttsmKe",
        "outputId": "192ea42b-6fb3-4b61-e0a1-8dafd91a98c3"
      },
      "execution_count": 49,
      "outputs": [
        {
          "output_type": "stream",
          "name": "stdout",
          "text": [
            "Looking in indexes: https://pypi.org/simple, https://us-python.pkg.dev/colab-wheels/public/simple/\n",
            "Requirement already satisfied: sklearn in /usr/local/lib/python3.7/dist-packages (0.0)\n",
            "Requirement already satisfied: scikit-learn in /usr/local/lib/python3.7/dist-packages (from sklearn) (1.0.2)\n",
            "Requirement already satisfied: joblib>=0.11 in /usr/local/lib/python3.7/dist-packages (from scikit-learn->sklearn) (1.1.0)\n",
            "Requirement already satisfied: scipy>=1.1.0 in /usr/local/lib/python3.7/dist-packages (from scikit-learn->sklearn) (1.4.1)\n",
            "Requirement already satisfied: threadpoolctl>=2.0.0 in /usr/local/lib/python3.7/dist-packages (from scikit-learn->sklearn) (3.1.0)\n",
            "Requirement already satisfied: numpy>=1.14.6 in /usr/local/lib/python3.7/dist-packages (from scikit-learn->sklearn) (1.21.6)\n"
          ]
        }
      ]
    },
    {
      "cell_type": "code",
      "source": [
        "def calc_metric(image, x, y, w, h):\n",
        "    crop_img = image[y:y+h, x:x+w]\n",
        "    crop_img = crop_img.reshape((crop_img.shape[0] * crop_img.shape[1], 3))\n",
        "    clt = KMeans(n_clusters = 3)\n",
        "    labels = clt.fit_predict(crop_img)\n",
        "    label_counts = Counter(labels)\n",
        "    dominant_color = clt.cluster_centers_[label_counts.most_common(1)[0][0]]\n",
        "    return list(dominant_color)"
      ],
      "metadata": {
        "id": "0Ax9DexHr73p"
      },
      "execution_count": 60,
      "outputs": []
    },
    {
      "cell_type": "code",
      "source": [
        "img = cv2.imread('/content/drive/MyDrive/output_cv_1/5_image.jpg')\n",
        "dom_color = calc_metric(img,0,0,500,500)\n",
        "print(dom_color)\n",
        "dom_color_hsv = np.full(img.shape, dom_color, dtype='uint8')\n",
        "dom_color_bgr = cv2.cvtColor(dom_color_hsv, cv2.COLOR_HSV2BGR)\n",
        "output_image = np.hstack((img, dom_color_bgr))\n",
        "cv2.imwrite('/content/dom_color.jpg',output_image)"
      ],
      "metadata": {
        "colab": {
          "base_uri": "https://localhost:8080/"
        },
        "id": "LaOIz-cls2mv",
        "outputId": "71d9a0f5-070f-4fd9-9d94-3b4b684ee762"
      },
      "execution_count": 62,
      "outputs": [
        {
          "output_type": "stream",
          "name": "stdout",
          "text": [
            "[251.72950438501272, 232.5639423732015, 159.8852489818518]\n"
          ]
        },
        {
          "output_type": "execute_result",
          "data": {
            "text/plain": [
              "True"
            ]
          },
          "metadata": {},
          "execution_count": 62
        }
      ]
    },
    {
      "cell_type": "markdown",
      "source": [
        "# Task 4 - 40 баллов\n"
      ],
      "metadata": {
        "id": "j6XhIt_uvgtW"
      }
    },
    {
      "cell_type": "code",
      "source": [
        "from sklearn.cluster import KMeans\n",
        "from sklearn.linear_model import LinearRegression\n",
        "from collections import Counter\n",
        "colors = {\n",
        "    'red':(237,28,38),\n",
        "    'yellow':(255,242,0),\n",
        "    'white_silver':(127,127,127),\n",
        "    'green':(34,177,76),\n",
        "    'blue_cyan':(203,228,253),\n",
        "    'black':(0,0,0)\n",
        "}\n",
        "def category_color(color_buf):\n",
        "  colors_diff = {\n",
        "    'red':0,\n",
        "    'yellow':0,\n",
        "    'white_silver':0,\n",
        "    'green':0,\n",
        "    'blue_cyan':0,\n",
        "    'black':0\n",
        "  }  \n",
        "  for color in colors:\n",
        "    colors_diff[color] = np.sqrt( (colors[color][0]-color_buf[0])**2 + (colors[color][1]-color_buf[1])**2 + (colors[color][2]-color_buf[2])**2 )\n",
        "  return min(colors_diff, key=colors_diff.get)\n",
        "\n",
        "def find_color(input_dir, output_file='output_color.csv'):\n",
        "  df = pd.read_csv(f'{input_dir}/description.csv') # считываем метадату\n",
        "  f = open(f'{input_dir}/image_counter.txt', 'r')\n",
        "  n = int(f.read())\n",
        "  f.close()\n",
        "  colors = []\n",
        "  model = torch.hub.load('ultralytics/yolov5', 'yolov5s')   # находим машину\n",
        "  col_names= []\n",
        "  for i in range(1,n+1):          \n",
        "    names = df[df['full_image_index']==i]['image_path'].values          #выделяем дату для изображения\n",
        "    \n",
        "    image_b   = cv2.imread(f'{input_dir}/data/{names[0]}')  # считываем изображения\n",
        "    image_g   = cv2.imread(f'{input_dir}/data/{names[1]}')\n",
        "    image_r   = cv2.imread(f'{input_dir}/data/{names[2]}')\n",
        "    col_names.append(f'{names[0][:5]}.jpg')\n",
        "    image_out = image_b\n",
        "    for о in range(len(image_out)):       # соединяем (cv2.merge не работал)\n",
        "      for j in range(len(image_out[о])):\n",
        "        image_out[о][j][1] = image_g[о][j][1]\n",
        "        image_out[о][j][2] = image_r[о][j][2]\n",
        "   \n",
        "    detected = model(image_out).pandas().xyxy[0]\n",
        "    list_names = ['car','bus','truck']\n",
        "    for j in list_names:\n",
        "     if j in detected['name'].unique():\n",
        "        x_min = int(detected[detected['name']==j]['xmin'].values[0])      # сохраняем координаты машины\n",
        "        x_max = int(detected[detected['name']==j]['xmax'].values[0])\n",
        "        y_min = int(detected[detected['name']==j]['ymin'].values[0])\n",
        "        y_max = int(detected[detected['name']==j]['ymax'].values[0])\n",
        "        break\n",
        "    crop_img = image_out[y_min:y_max, x_min:x_max]              # обрезаем\n",
        "    crop_img = crop_img.reshape((crop_img.shape[0] * crop_img.shape[1], 3))\n",
        "    clt = KMeans(n_clusters = 3)\n",
        "    labels = clt.fit_predict(crop_img)\n",
        "    label_counts = Counter(labels)\n",
        "    dominant_color = clt.cluster_centers_[label_counts.most_common(1)[0][0]]\n",
        "    colors.append(category_color(list(dominant_color)))\n",
        "  df_output = pd.DataFrame(columns = ['file_name','color'])\n",
        "  df_output['file_name'] = col_names\n",
        "  df_output['color'] = colors\n",
        "  df_output.to_csv(output_file)"
      ],
      "metadata": {
        "id": "SedU2ksovgMZ"
      },
      "execution_count": 115,
      "outputs": []
    },
    {
      "cell_type": "code",
      "source": [
        "find_color('/content/drive/MyDrive/color_cars_train')"
      ],
      "metadata": {
        "colab": {
          "base_uri": "https://localhost:8080/"
        },
        "id": "x4CzfjD09H3B",
        "outputId": "6b6305a5-5f2a-4a83-841a-f10164784717"
      },
      "execution_count": 116,
      "outputs": [
        {
          "output_type": "stream",
          "name": "stderr",
          "text": [
            "Using cache found in /root/.cache/torch/hub/ultralytics_yolov5_master\n",
            "\u001b[31m\u001b[1mrequirements:\u001b[0m PyYAML>=5.3.1 not found and is required by YOLOv5, attempting auto-update...\n",
            "Looking in indexes: https://pypi.org/simple, https://us-python.pkg.dev/colab-wheels/public/simple/\n",
            "Requirement already satisfied: PyYAML>=5.3.1 in /usr/local/lib/python3.7/dist-packages (6.0)\n",
            "\n",
            "\u001b[31m\u001b[1mrequirements:\u001b[0m 1 package updated per /root/.cache/torch/hub/ultralytics_yolov5_master/requirements.txt\n",
            "\u001b[31m\u001b[1mrequirements:\u001b[0m ⚠️ \u001b[1mRestart runtime or rerun command for updates to take effect\u001b[0m\n",
            "\n",
            "YOLOv5 🚀 2022-6-18 Python-3.7.13 torch-1.11.0+cu113 CPU\n",
            "\n",
            "Fusing layers... \n",
            "YOLOv5s summary: 213 layers, 7225885 parameters, 0 gradients\n",
            "Adding AutoShape... \n"
          ]
        }
      ]
    },
    {
      "cell_type": "code",
      "source": [
        "df_predict_colors = pd.read_csv('output_color.csv')\n",
        "df_predict_colors"
      ],
      "metadata": {
        "colab": {
          "base_uri": "https://localhost:8080/",
          "height": 424
        },
        "id": "bw6BtC_V2Sl7",
        "outputId": "c23bf121-34b6-4204-9530-5a3288d09cd2"
      },
      "execution_count": 117,
      "outputs": [
        {
          "output_type": "execute_result",
          "data": {
            "text/plain": [
              "    Unnamed: 0  file_name         color\n",
              "0            0  00001.jpg         green\n",
              "1            1  00002.jpg  white_silver\n",
              "2            2  00003.jpg     blue_cyan\n",
              "3            3  00004.jpg         black\n",
              "4            4  00005.jpg         black\n",
              "..         ...        ...           ...\n",
              "91          91  00092.jpg         black\n",
              "92          92  00093.jpg  white_silver\n",
              "93          93  00094.jpg         black\n",
              "94          94  00095.jpg         black\n",
              "95          95  00096.jpg         black\n",
              "\n",
              "[96 rows x 3 columns]"
            ],
            "text/html": [
              "\n",
              "  <div id=\"df-8d5a4440-a0ba-4c1d-b012-aae4677b9f0b\">\n",
              "    <div class=\"colab-df-container\">\n",
              "      <div>\n",
              "<style scoped>\n",
              "    .dataframe tbody tr th:only-of-type {\n",
              "        vertical-align: middle;\n",
              "    }\n",
              "\n",
              "    .dataframe tbody tr th {\n",
              "        vertical-align: top;\n",
              "    }\n",
              "\n",
              "    .dataframe thead th {\n",
              "        text-align: right;\n",
              "    }\n",
              "</style>\n",
              "<table border=\"1\" class=\"dataframe\">\n",
              "  <thead>\n",
              "    <tr style=\"text-align: right;\">\n",
              "      <th></th>\n",
              "      <th>Unnamed: 0</th>\n",
              "      <th>file_name</th>\n",
              "      <th>color</th>\n",
              "    </tr>\n",
              "  </thead>\n",
              "  <tbody>\n",
              "    <tr>\n",
              "      <th>0</th>\n",
              "      <td>0</td>\n",
              "      <td>00001.jpg</td>\n",
              "      <td>green</td>\n",
              "    </tr>\n",
              "    <tr>\n",
              "      <th>1</th>\n",
              "      <td>1</td>\n",
              "      <td>00002.jpg</td>\n",
              "      <td>white_silver</td>\n",
              "    </tr>\n",
              "    <tr>\n",
              "      <th>2</th>\n",
              "      <td>2</td>\n",
              "      <td>00003.jpg</td>\n",
              "      <td>blue_cyan</td>\n",
              "    </tr>\n",
              "    <tr>\n",
              "      <th>3</th>\n",
              "      <td>3</td>\n",
              "      <td>00004.jpg</td>\n",
              "      <td>black</td>\n",
              "    </tr>\n",
              "    <tr>\n",
              "      <th>4</th>\n",
              "      <td>4</td>\n",
              "      <td>00005.jpg</td>\n",
              "      <td>black</td>\n",
              "    </tr>\n",
              "    <tr>\n",
              "      <th>...</th>\n",
              "      <td>...</td>\n",
              "      <td>...</td>\n",
              "      <td>...</td>\n",
              "    </tr>\n",
              "    <tr>\n",
              "      <th>91</th>\n",
              "      <td>91</td>\n",
              "      <td>00092.jpg</td>\n",
              "      <td>black</td>\n",
              "    </tr>\n",
              "    <tr>\n",
              "      <th>92</th>\n",
              "      <td>92</td>\n",
              "      <td>00093.jpg</td>\n",
              "      <td>white_silver</td>\n",
              "    </tr>\n",
              "    <tr>\n",
              "      <th>93</th>\n",
              "      <td>93</td>\n",
              "      <td>00094.jpg</td>\n",
              "      <td>black</td>\n",
              "    </tr>\n",
              "    <tr>\n",
              "      <th>94</th>\n",
              "      <td>94</td>\n",
              "      <td>00095.jpg</td>\n",
              "      <td>black</td>\n",
              "    </tr>\n",
              "    <tr>\n",
              "      <th>95</th>\n",
              "      <td>95</td>\n",
              "      <td>00096.jpg</td>\n",
              "      <td>black</td>\n",
              "    </tr>\n",
              "  </tbody>\n",
              "</table>\n",
              "<p>96 rows × 3 columns</p>\n",
              "</div>\n",
              "      <button class=\"colab-df-convert\" onclick=\"convertToInteractive('df-8d5a4440-a0ba-4c1d-b012-aae4677b9f0b')\"\n",
              "              title=\"Convert this dataframe to an interactive table.\"\n",
              "              style=\"display:none;\">\n",
              "        \n",
              "  <svg xmlns=\"http://www.w3.org/2000/svg\" height=\"24px\"viewBox=\"0 0 24 24\"\n",
              "       width=\"24px\">\n",
              "    <path d=\"M0 0h24v24H0V0z\" fill=\"none\"/>\n",
              "    <path d=\"M18.56 5.44l.94 2.06.94-2.06 2.06-.94-2.06-.94-.94-2.06-.94 2.06-2.06.94zm-11 1L8.5 8.5l.94-2.06 2.06-.94-2.06-.94L8.5 2.5l-.94 2.06-2.06.94zm10 10l.94 2.06.94-2.06 2.06-.94-2.06-.94-.94-2.06-.94 2.06-2.06.94z\"/><path d=\"M17.41 7.96l-1.37-1.37c-.4-.4-.92-.59-1.43-.59-.52 0-1.04.2-1.43.59L10.3 9.45l-7.72 7.72c-.78.78-.78 2.05 0 2.83L4 21.41c.39.39.9.59 1.41.59.51 0 1.02-.2 1.41-.59l7.78-7.78 2.81-2.81c.8-.78.8-2.07 0-2.86zM5.41 20L4 18.59l7.72-7.72 1.47 1.35L5.41 20z\"/>\n",
              "  </svg>\n",
              "      </button>\n",
              "      \n",
              "  <style>\n",
              "    .colab-df-container {\n",
              "      display:flex;\n",
              "      flex-wrap:wrap;\n",
              "      gap: 12px;\n",
              "    }\n",
              "\n",
              "    .colab-df-convert {\n",
              "      background-color: #E8F0FE;\n",
              "      border: none;\n",
              "      border-radius: 50%;\n",
              "      cursor: pointer;\n",
              "      display: none;\n",
              "      fill: #1967D2;\n",
              "      height: 32px;\n",
              "      padding: 0 0 0 0;\n",
              "      width: 32px;\n",
              "    }\n",
              "\n",
              "    .colab-df-convert:hover {\n",
              "      background-color: #E2EBFA;\n",
              "      box-shadow: 0px 1px 2px rgba(60, 64, 67, 0.3), 0px 1px 3px 1px rgba(60, 64, 67, 0.15);\n",
              "      fill: #174EA6;\n",
              "    }\n",
              "\n",
              "    [theme=dark] .colab-df-convert {\n",
              "      background-color: #3B4455;\n",
              "      fill: #D2E3FC;\n",
              "    }\n",
              "\n",
              "    [theme=dark] .colab-df-convert:hover {\n",
              "      background-color: #434B5C;\n",
              "      box-shadow: 0px 1px 3px 1px rgba(0, 0, 0, 0.15);\n",
              "      filter: drop-shadow(0px 1px 2px rgba(0, 0, 0, 0.3));\n",
              "      fill: #FFFFFF;\n",
              "    }\n",
              "  </style>\n",
              "\n",
              "      <script>\n",
              "        const buttonEl =\n",
              "          document.querySelector('#df-8d5a4440-a0ba-4c1d-b012-aae4677b9f0b button.colab-df-convert');\n",
              "        buttonEl.style.display =\n",
              "          google.colab.kernel.accessAllowed ? 'block' : 'none';\n",
              "\n",
              "        async function convertToInteractive(key) {\n",
              "          const element = document.querySelector('#df-8d5a4440-a0ba-4c1d-b012-aae4677b9f0b');\n",
              "          const dataTable =\n",
              "            await google.colab.kernel.invokeFunction('convertToInteractive',\n",
              "                                                     [key], {});\n",
              "          if (!dataTable) return;\n",
              "\n",
              "          const docLinkHtml = 'Like what you see? Visit the ' +\n",
              "            '<a target=\"_blank\" href=https://colab.research.google.com/notebooks/data_table.ipynb>data table notebook</a>'\n",
              "            + ' to learn more about interactive tables.';\n",
              "          element.innerHTML = '';\n",
              "          dataTable['output_type'] = 'display_data';\n",
              "          await google.colab.output.renderOutput(dataTable, element);\n",
              "          const docLink = document.createElement('div');\n",
              "          docLink.innerHTML = docLinkHtml;\n",
              "          element.appendChild(docLink);\n",
              "        }\n",
              "      </script>\n",
              "    </div>\n",
              "  </div>\n",
              "  "
            ]
          },
          "metadata": {},
          "execution_count": 117
        }
      ]
    },
    {
      "cell_type": "code",
      "source": [
        "df_fact_colors = pd.read_csv('/content/drive/MyDrive/color_cars_train/colors.csv')\n",
        "df_fact_colors.columns=['file_name','color']\n",
        "df_fact_colors"
      ],
      "metadata": {
        "colab": {
          "base_uri": "https://localhost:8080/",
          "height": 424
        },
        "id": "obKSb6cA457d",
        "outputId": "adeddba9-44df-46b6-ec46-976af8dc1925"
      },
      "execution_count": 118,
      "outputs": [
        {
          "output_type": "execute_result",
          "data": {
            "text/plain": [
              "    file_name         color\n",
              "0   00002.jpg        yellow\n",
              "1   00003.jpg         green\n",
              "2   00004.jpg         black\n",
              "3   00005.jpg  white_silver\n",
              "4   00006.jpg           red\n",
              "..        ...           ...\n",
              "90  00092.jpg     blue_cyan\n",
              "91  00093.jpg     blue_cyan\n",
              "92  00094.jpg  white_silver\n",
              "93  00095.jpg  white_silver\n",
              "94  00096.jpg     blue_cyan\n",
              "\n",
              "[95 rows x 2 columns]"
            ],
            "text/html": [
              "\n",
              "  <div id=\"df-fd71d503-f406-43f3-bbbe-90a1e54a2f61\">\n",
              "    <div class=\"colab-df-container\">\n",
              "      <div>\n",
              "<style scoped>\n",
              "    .dataframe tbody tr th:only-of-type {\n",
              "        vertical-align: middle;\n",
              "    }\n",
              "\n",
              "    .dataframe tbody tr th {\n",
              "        vertical-align: top;\n",
              "    }\n",
              "\n",
              "    .dataframe thead th {\n",
              "        text-align: right;\n",
              "    }\n",
              "</style>\n",
              "<table border=\"1\" class=\"dataframe\">\n",
              "  <thead>\n",
              "    <tr style=\"text-align: right;\">\n",
              "      <th></th>\n",
              "      <th>file_name</th>\n",
              "      <th>color</th>\n",
              "    </tr>\n",
              "  </thead>\n",
              "  <tbody>\n",
              "    <tr>\n",
              "      <th>0</th>\n",
              "      <td>00002.jpg</td>\n",
              "      <td>yellow</td>\n",
              "    </tr>\n",
              "    <tr>\n",
              "      <th>1</th>\n",
              "      <td>00003.jpg</td>\n",
              "      <td>green</td>\n",
              "    </tr>\n",
              "    <tr>\n",
              "      <th>2</th>\n",
              "      <td>00004.jpg</td>\n",
              "      <td>black</td>\n",
              "    </tr>\n",
              "    <tr>\n",
              "      <th>3</th>\n",
              "      <td>00005.jpg</td>\n",
              "      <td>white_silver</td>\n",
              "    </tr>\n",
              "    <tr>\n",
              "      <th>4</th>\n",
              "      <td>00006.jpg</td>\n",
              "      <td>red</td>\n",
              "    </tr>\n",
              "    <tr>\n",
              "      <th>...</th>\n",
              "      <td>...</td>\n",
              "      <td>...</td>\n",
              "    </tr>\n",
              "    <tr>\n",
              "      <th>90</th>\n",
              "      <td>00092.jpg</td>\n",
              "      <td>blue_cyan</td>\n",
              "    </tr>\n",
              "    <tr>\n",
              "      <th>91</th>\n",
              "      <td>00093.jpg</td>\n",
              "      <td>blue_cyan</td>\n",
              "    </tr>\n",
              "    <tr>\n",
              "      <th>92</th>\n",
              "      <td>00094.jpg</td>\n",
              "      <td>white_silver</td>\n",
              "    </tr>\n",
              "    <tr>\n",
              "      <th>93</th>\n",
              "      <td>00095.jpg</td>\n",
              "      <td>white_silver</td>\n",
              "    </tr>\n",
              "    <tr>\n",
              "      <th>94</th>\n",
              "      <td>00096.jpg</td>\n",
              "      <td>blue_cyan</td>\n",
              "    </tr>\n",
              "  </tbody>\n",
              "</table>\n",
              "<p>95 rows × 2 columns</p>\n",
              "</div>\n",
              "      <button class=\"colab-df-convert\" onclick=\"convertToInteractive('df-fd71d503-f406-43f3-bbbe-90a1e54a2f61')\"\n",
              "              title=\"Convert this dataframe to an interactive table.\"\n",
              "              style=\"display:none;\">\n",
              "        \n",
              "  <svg xmlns=\"http://www.w3.org/2000/svg\" height=\"24px\"viewBox=\"0 0 24 24\"\n",
              "       width=\"24px\">\n",
              "    <path d=\"M0 0h24v24H0V0z\" fill=\"none\"/>\n",
              "    <path d=\"M18.56 5.44l.94 2.06.94-2.06 2.06-.94-2.06-.94-.94-2.06-.94 2.06-2.06.94zm-11 1L8.5 8.5l.94-2.06 2.06-.94-2.06-.94L8.5 2.5l-.94 2.06-2.06.94zm10 10l.94 2.06.94-2.06 2.06-.94-2.06-.94-.94-2.06-.94 2.06-2.06.94z\"/><path d=\"M17.41 7.96l-1.37-1.37c-.4-.4-.92-.59-1.43-.59-.52 0-1.04.2-1.43.59L10.3 9.45l-7.72 7.72c-.78.78-.78 2.05 0 2.83L4 21.41c.39.39.9.59 1.41.59.51 0 1.02-.2 1.41-.59l7.78-7.78 2.81-2.81c.8-.78.8-2.07 0-2.86zM5.41 20L4 18.59l7.72-7.72 1.47 1.35L5.41 20z\"/>\n",
              "  </svg>\n",
              "      </button>\n",
              "      \n",
              "  <style>\n",
              "    .colab-df-container {\n",
              "      display:flex;\n",
              "      flex-wrap:wrap;\n",
              "      gap: 12px;\n",
              "    }\n",
              "\n",
              "    .colab-df-convert {\n",
              "      background-color: #E8F0FE;\n",
              "      border: none;\n",
              "      border-radius: 50%;\n",
              "      cursor: pointer;\n",
              "      display: none;\n",
              "      fill: #1967D2;\n",
              "      height: 32px;\n",
              "      padding: 0 0 0 0;\n",
              "      width: 32px;\n",
              "    }\n",
              "\n",
              "    .colab-df-convert:hover {\n",
              "      background-color: #E2EBFA;\n",
              "      box-shadow: 0px 1px 2px rgba(60, 64, 67, 0.3), 0px 1px 3px 1px rgba(60, 64, 67, 0.15);\n",
              "      fill: #174EA6;\n",
              "    }\n",
              "\n",
              "    [theme=dark] .colab-df-convert {\n",
              "      background-color: #3B4455;\n",
              "      fill: #D2E3FC;\n",
              "    }\n",
              "\n",
              "    [theme=dark] .colab-df-convert:hover {\n",
              "      background-color: #434B5C;\n",
              "      box-shadow: 0px 1px 3px 1px rgba(0, 0, 0, 0.15);\n",
              "      filter: drop-shadow(0px 1px 2px rgba(0, 0, 0, 0.3));\n",
              "      fill: #FFFFFF;\n",
              "    }\n",
              "  </style>\n",
              "\n",
              "      <script>\n",
              "        const buttonEl =\n",
              "          document.querySelector('#df-fd71d503-f406-43f3-bbbe-90a1e54a2f61 button.colab-df-convert');\n",
              "        buttonEl.style.display =\n",
              "          google.colab.kernel.accessAllowed ? 'block' : 'none';\n",
              "\n",
              "        async function convertToInteractive(key) {\n",
              "          const element = document.querySelector('#df-fd71d503-f406-43f3-bbbe-90a1e54a2f61');\n",
              "          const dataTable =\n",
              "            await google.colab.kernel.invokeFunction('convertToInteractive',\n",
              "                                                     [key], {});\n",
              "          if (!dataTable) return;\n",
              "\n",
              "          const docLinkHtml = 'Like what you see? Visit the ' +\n",
              "            '<a target=\"_blank\" href=https://colab.research.google.com/notebooks/data_table.ipynb>data table notebook</a>'\n",
              "            + ' to learn more about interactive tables.';\n",
              "          element.innerHTML = '';\n",
              "          dataTable['output_type'] = 'display_data';\n",
              "          await google.colab.output.renderOutput(dataTable, element);\n",
              "          const docLink = document.createElement('div');\n",
              "          docLink.innerHTML = docLinkHtml;\n",
              "          element.appendChild(docLink);\n",
              "        }\n",
              "      </script>\n",
              "    </div>\n",
              "  </div>\n",
              "  "
            ]
          },
          "metadata": {},
          "execution_count": 118
        }
      ]
    },
    {
      "cell_type": "code",
      "source": [
        "cnt = 0\n",
        "for i in range(df_fact_colors.shape[0]):\n",
        "  if df_fact_colors.iloc[i]['color'] == df_predict_colors.iloc[i]['color']:\n",
        "    cnt +=1\n",
        "print(cnt,' images with equal color of', df_flag.shape[0])"
      ],
      "metadata": {
        "colab": {
          "base_uri": "https://localhost:8080/"
        },
        "id": "9PIYDaD45_P8",
        "outputId": "e5f62811-34be-420e-9ee6-5e44ddf19a1e"
      },
      "execution_count": 119,
      "outputs": [
        {
          "output_type": "stream",
          "name": "stdout",
          "text": [
            "13  images with equal color of 99\n"
          ]
        }
      ]
    }
  ]
}