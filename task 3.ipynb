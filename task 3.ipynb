{
  "nbformat": 4,
  "nbformat_minor": 0,
  "metadata": {
    "colab": {
      "name": "Untitled2.ipynb",
      "provenance": []
    },
    "kernelspec": {
      "name": "python3",
      "display_name": "Python 3"
    },
    "language_info": {
      "name": "python"
    }
  },
  "cells": [
    {
      "cell_type": "code",
      "execution_count": null,
      "metadata": {
        "id": "MEkDTy0f9nXm"
      },
      "outputs": [],
      "source": [
        ""
      ]
    },
    {
      "cell_type": "markdown",
      "source": [
        "# Task №3 - 30 баллов"
      ],
      "metadata": {
        "id": "IZqRELmODnsr"
      }
    },
    {
      "cell_type": "code",
      "source": [
        "pip install sklearn"
      ],
      "metadata": {
        "colab": {
          "base_uri": "https://localhost:8080/"
        },
        "id": "ft4Y11ttsmKe",
        "outputId": "f9e74613-810b-4d6f-975c-1584796031e6"
      },
      "execution_count": null,
      "outputs": [
        {
          "output_type": "stream",
          "name": "stdout",
          "text": [
            "Looking in indexes: https://pypi.org/simple, https://us-python.pkg.dev/colab-wheels/public/simple/\n",
            "Requirement already satisfied: sklearn in /usr/local/lib/python3.7/dist-packages (0.0)\n",
            "Requirement already satisfied: scikit-learn in /usr/local/lib/python3.7/dist-packages (from sklearn) (1.0.2)\n",
            "Requirement already satisfied: joblib>=0.11 in /usr/local/lib/python3.7/dist-packages (from scikit-learn->sklearn) (1.1.0)\n",
            "Requirement already satisfied: numpy>=1.14.6 in /usr/local/lib/python3.7/dist-packages (from scikit-learn->sklearn) (1.21.6)\n",
            "Requirement already satisfied: threadpoolctl>=2.0.0 in /usr/local/lib/python3.7/dist-packages (from scikit-learn->sklearn) (3.1.0)\n",
            "Requirement already satisfied: scipy>=1.1.0 in /usr/local/lib/python3.7/dist-packages (from scikit-learn->sklearn) (1.4.1)\n"
          ]
        }
      ]
    },
    {
      "cell_type": "code",
      "source": [
        "from sklearn.cluster import KMeans\n",
        "from collections import Counter\n",
        "def calc_metric(image, x, y, w, h):\n",
        "    crop_img = image[y:y+h, x:x+w]\n",
        "    crop_img = crop_img.reshape((crop_img.shape[0] * crop_img.shape[1], 3))\n",
        "    clt = KMeans(n_clusters = 4)\n",
        "    labels = clt.fit_predict(crop_img)\n",
        "    label_counts = Counter(labels)\n",
        "    dominant_color = clt.cluster_centers_[label_counts.most_common(1)[0][0]]\n",
        "    return list(dominant_color)"
      ],
      "metadata": {
        "id": "0Ax9DexHr73p"
      },
      "execution_count": null,
      "outputs": []
    },
    {
      "cell_type": "code",
      "source": [
        "img = cv2.imread('/content/output/98_image.jpg')\n",
        "dom_color = calc_metric(img,0,0,100,100)\n",
        "print(dom_color)\n",
        "dom_color_hsv = np.full(img.shape, dom_color, dtype='uint8')\n",
        "dom_color_bgr = cv2.cvtColor(dom_color_hsv, cv2.COLOR_HSV2BGR)\n",
        "output_image = np.hstack((img, dom_color_bgr))\n",
        "cv2.imwrite('/content/dom_color.jpg',output_image)"
      ],
      "metadata": {
        "colab": {
          "base_uri": "https://localhost:8080/"
        },
        "id": "LaOIz-cls2mv",
        "outputId": "6fd98404-d808-42a3-e4a1-7eaa3dbddd49"
      },
      "execution_count": null,
      "outputs": [
        {
          "output_type": "stream",
          "name": "stdout",
          "text": [
            "[233.75202937765513, 234.85581754928882, 237.15307305759325]\n"
          ]
        },
        {
          "output_type": "execute_result",
          "data": {
            "text/plain": [
              "True"
            ]
          },
          "metadata": {},
          "execution_count": 246
        }
      ]
    }
  ]
}